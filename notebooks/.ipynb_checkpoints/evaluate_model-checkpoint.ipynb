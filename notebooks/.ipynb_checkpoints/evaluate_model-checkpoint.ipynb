{
 "cells": [
  {
   "cell_type": "code",
   "execution_count": 1,
   "id": "497d9e2e",
   "metadata": {
    "vscode": {
     "languageId": "plaintext"
    }
   },
   "outputs": [
    {
     "ename": "NameError",
     "evalue": "name '__file__' is not defined",
     "output_type": "error",
     "traceback": [
      "\u001b[31m---------------------------------------------------------------------------\u001b[39m",
      "\u001b[31mNameError\u001b[39m                                 Traceback (most recent call last)",
      "\u001b[36mCell\u001b[39m\u001b[36m \u001b[39m\u001b[32mIn[1]\u001b[39m\u001b[32m, line 11\u001b[39m\n\u001b[32m      8\u001b[39m \u001b[38;5;28;01mimport\u001b[39;00m\u001b[38;5;250m \u001b[39m\u001b[34;01mjoblib\u001b[39;00m\n\u001b[32m     10\u001b[39m \u001b[38;5;66;03m# --------- Paths ---------\u001b[39;00m\n\u001b[32m---> \u001b[39m\u001b[32m11\u001b[39m BASE_DIR = os.path.dirname(os.path.abspath(\u001b[34;43m__file__\u001b[39;49m))\n\u001b[32m     12\u001b[39m DATA_DIR = os.path.join(BASE_DIR, \u001b[33m\"\u001b[39m\u001b[33mdata\u001b[39m\u001b[33m\"\u001b[39m)\n\u001b[32m     13\u001b[39m MODEL_DIR = os.path.join(BASE_DIR, \u001b[33m\"\u001b[39m\u001b[33mmodels\u001b[39m\u001b[33m\"\u001b[39m)\n",
      "\u001b[31mNameError\u001b[39m: name '__file__' is not defined"
     ]
    }
   ],
   "source": [
    "# train_model.py\n",
    "\n",
    "import os\n",
    "import pandas as pd\n",
    "import numpy as np\n",
    "from sklearn.ensemble import IsolationForest\n",
    "from sklearn.neighbors import LocalOutlierFactor\n",
    "import joblib\n",
    "\n",
    "# --------- Paths ---------\n",
    "BASE_DIR = os.path.abspath(\"..\") \n",
    "DATA_DIR = os.path.join(BASE_DIR, \"data\")\n",
    "MODEL_DIR = os.path.join(BASE_DIR, \"models\")\n",
    "os.makedirs(MODEL_DIR, exist_ok=True)\n",
    "\n",
    "# --------- Load Data ---------\n",
    "df = pd.read_csv(os.path.join(DATA_DIR, \"dummy_billing_dataset.csv\"), parse_dates=[\"month\"])\n",
    "\n",
    "# --------- Feature Engineering ---------\n",
    "def add_features(df):\n",
    "    df = df.sort_values([\"customer_id\", \"month\"])\n",
    "    \n",
    "    # Ratio of billed vs consumed\n",
    "    df[\"ratio\"] = df[\"billed_kwh\"] / (df[\"consumption_kwh\"] + 1)\n",
    "    \n",
    "    # Month-to-month change in consumption\n",
    "    df[\"monthly_change\"] = df.groupby(\"customer_id\")[\"consumption_kwh\"].diff().fillna(0)\n",
    "    \n",
    "    # Deviation from category average\n",
    "    category_avg = df.groupby(\"consumer_category\")[\"consumption_kwh\"].transform(\"mean\")\n",
    "    df[\"cat_dev\"] = df[\"consumption_kwh\"] - category_avg\n",
    "    \n",
    "    # Gap between billed and consumed\n",
    "    df[\"billing_gap\"] = df[\"consumption_kwh\"] - df[\"billed_kwh\"]\n",
    "    \n",
    "    return df\n",
    "\n",
    "df = add_features(df)\n",
    "\n",
    "# Features for model\n",
    "features = [\"consumption_kwh\", \"billed_kwh\", \"ratio\", \"monthly_change\", \"cat_dev\", \"billing_gap\"]\n",
    "\n",
    "# --------- Train Models ---------\n",
    "iso = IsolationForest(contamination=0.05, random_state=42)\n",
    "df[\"iso_score\"] = iso.fit_predict(df[features].fillna(0))\n",
    "df[\"iso_value\"] = iso.decision_function(df[features].fillna(0))\n",
    "\n",
    "lof = LocalOutlierFactor(n_neighbors=20, contamination=0.05)\n",
    "df[\"lof_score\"] = lof.fit_predict(df[features].fillna(0))\n",
    "\n",
    "# --------- Hybrid Scoring ---------\n",
    "# Combine Isolation Forest & LOF + Rule-based flags\n",
    "df[\"combined_score\"] = df[\"iso_value\"] + df[\"lof_score\"]\n",
    "\n",
    "# Rule-based detection: if billing ratio < 0.85 consistently\n",
    "df[\"rule_flag\"] = (df[\"ratio\"] < 0.85).astype(int)\n",
    "\n",
    "# Final anomaly score = AI + rules\n",
    "df[\"final_score\"] = df[\"combined_score\"] - df[\"rule_flag\"] * 2\n",
    "\n",
    "# --------- Save Top 50 Suspicious Customers ---------\n",
    "top50 = df.groupby(\"customer_id\")[\"final_score\"].mean().nsmallest(50).reset_index()\n",
    "top50.to_csv(os.path.join(DATA_DIR, \"top50_suspicious_customers.csv\"), index=False)\n",
    "\n",
    "# Save trained model (Isolation Forest only, LOF is unsupervised no save)\n",
    "joblib.dump(iso, os.path.join(MODEL_DIR, \"anomaly_model.pkl\"))\n",
    "\n",
    "print(f\"✅ Model saved to {os.path.join(MODEL_DIR, 'anomaly_model.pkl')}\")\n",
    "print(f\"✅ Top 50 suspicious customers saved to {os.path.join(DATA_DIR, 'top50_suspicious_customers.csv')}\")\n"
   ]
  },
  {
   "cell_type": "code",
   "execution_count": null,
   "id": "6086f832-0dcb-4543-bf2d-21e070cb06aa",
   "metadata": {},
   "outputs": [],
   "source": []
  }
 ],
 "metadata": {
  "kernelspec": {
   "display_name": "Python 3 (ipykernel)",
   "language": "python",
   "name": "python3"
  },
  "language_info": {
   "codemirror_mode": {
    "name": "ipython",
    "version": 3
   },
   "file_extension": ".py",
   "mimetype": "text/x-python",
   "name": "python",
   "nbconvert_exporter": "python",
   "pygments_lexer": "ipython3",
   "version": "3.13.7"
  }
 },
 "nbformat": 4,
 "nbformat_minor": 5
}
