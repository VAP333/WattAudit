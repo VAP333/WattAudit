{
 "cells": [
  {
   "cell_type": "code",
   "execution_count": null,
   "id": "e9062069",
   "metadata": {
    "vscode": {
     "languageId": "plaintext"
    }
   },
   "outputs": [],
   "source": [
    "# anomaly_detection.ipynb\n",
    "\n",
    "import pandas as pd\n",
    "import numpy as np\n",
    "from sklearn.ensemble import IsolationForest\n",
    "import os\n",
    "\n",
    "# --------- Paths ---------\n",
    "BASE_DIR = os.path.dirname(os.path.dirname(os.path.abspath(__file__)))\n",
    "DATA_DIR = os.path.join(BASE_DIR, \"data\")\n",
    "\n",
    "# --------- Load dataset ---------\n",
    "df = pd.read_csv(os.path.join(DATA_DIR, \"dummy_billing_dataset.csv\"), parse_dates=[\"month\"])\n",
    "print(\"Dataset loaded:\", df.shape)\n",
    "\n",
    "# --------- Feature Engineering ---------\n",
    "df = df.sort_values([\"customer_id\", \"month\"])\n",
    "\n",
    "# rolling mean & std (3 months per customer)\n",
    "df[\"rolling_mean_3\"] = df.groupby(\"customer_id\")[\"consumption_kwh\"].rolling(3, min_periods=1).mean().reset_index(0, drop=True)\n",
    "df[\"rolling_std_3\"] = df.groupby(\"customer_id\")[\"consumption_kwh\"].rolling(3, min_periods=1).std().reset_index(0, drop=True).fillna(0)\n",
    "\n",
    "# pct change vs previous month\n",
    "df[\"pct_change\"] = df.groupby(\"customer_id\")[\"consumption_kwh\"].pct_change().fillna(0)\n",
    "\n",
    "# final features\n",
    "features = [\"consumption_kwh\", \"billed_kwh\", \"rolling_mean_3\", \"rolling_std_3\", \"pct_change\"]\n",
    "X = df[features].fillna(0)\n",
    "\n",
    "# --------- Isolation Forest ---------\n",
    "iso = IsolationForest(n_estimators=200, contamination=0.05, random_state=42)\n",
    "df[\"anomaly_flag\"] = iso.fit_predict(X)   # -1 = anomaly, 1 = normal\n",
    "df[\"anomaly_score\"] = iso.decision_function(X)\n",
    "\n",
    "# --------- Aggregate anomaly scores per customer ---------\n",
    "customer_scores = df.groupby(\"customer_id\")[\"anomaly_score\"].mean().reset_index()\n",
    "customer_scores = customer_scores.sort_values(\"anomaly_score\")  # lower score = more anomalous\n",
    "\n",
    "# take top 50\n",
    "top50 = customer_scores.head(50)\n",
    "print(\"Top 50 suspicious customers:\")\n",
    "print(top50.head())\n",
    "\n",
    "# --------- Save results ---------\n",
    "out_path = os.path.join(DATA_DIR, \"top50_suspicious_customers.csv\")\n",
    "top50.to_csv(out_path, index=False)\n",
    "print(f\"✅ Saved to {out_path}\")\n"
   ]
  }
 ],
 "metadata": {
  "language_info": {
   "name": "python"
  }
 },
 "nbformat": 4,
 "nbformat_minor": 5
}
