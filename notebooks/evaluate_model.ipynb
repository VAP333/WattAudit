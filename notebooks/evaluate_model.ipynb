{
 "cells": [
  {
   "cell_type": "code",
   "execution_count": null,
   "id": "497d9e2e",
   "metadata": {
    "scrolled": true,
    "vscode": {
     "languageId": "plaintext"
    }
   },
   "outputs": [
    {
     "name": "stdout",
     "output_type": "stream",
     "text": [
      "✅ Model saved to C:\\Users\\Hp\\WattAudit++\\models\\anomaly_model.pkl\n",
      "✅ Top 50 suspicious customers saved to C:\\Users\\Hp\\WattAudit++\\data\\top50_suspicious_customers.csv\n"
     ]
    }
   ],
   "source": [
    "# evaluate_model.ipynb\n",
    "\n",
    "import os\n",
    "import pandas as pd\n",
    "import numpy as np\n",
    "import matplotlib.pyplot as plt\n",
    "import seaborn as sns\n",
    "import joblib\n",
    "from sklearn.metrics import classification_report, confusion_matrix\n",
    "\n",
    "# --------- Paths ---------\n",
    "DATA_DIR = os.path.join(\"..\", \"data\")\n",
    "MODEL_DIR = os.path.join(\"..\", \"models\")\n",
    "\n",
    "# --------- Load Data + Model ---------\n",
    "df = pd.read_csv(os.path.join(DATA_DIR, \"dummy_billing_dataset.csv\"), parse_dates=[\"month\"])\n",
    "model = joblib.load(os.path.join(MODEL_DIR, \"anomaly_model.pkl\"))\n",
    "\n",
    "# --------- Feature Engineering (same as training) ---------\n",
    "def add_features(df):\n",
    "    df = df.sort_values([\"customer_id\", \"month\"])\n",
    "    df[\"ratio\"] = df[\"billed_kwh\"] / (df[\"consumption_kwh\"] + 1)\n",
    "    df[\"monthly_change\"] = df.groupby(\"customer_id\")[\"consumption_kwh\"].diff().fillna(0)\n",
    "    category_avg = df.groupby(\"consumer_category\")[\"consumption_kwh\"].transform(\"mean\")\n",
    "    df[\"cat_dev\"] = df[\"consumption_kwh\"] - category_avg\n",
    "    df[\"billing_gap\"] = df[\"consumption_kwh\"] - df[\"billed_kwh\"]\n",
    "    return df\n",
    "\n",
    "df = add_features(df)\n",
    "features = [\"consumption_kwh\", \"billed_kwh\", \"ratio\", \"monthly_change\", \"cat_dev\", \"billing_gap\"]\n",
    "\n",
    "# --------- Evaluate Scores ---------\n",
    "df[\"anomaly_score\"] = model.decision_function(df[features].fillna(0))\n",
    "df[\"anomaly_label\"] = model.predict(df[features].fillna(0))  # -1 anomaly, 1 normal\n",
    "\n",
    "# --------- Plot Score Distribution ---------\n",
    "plt.figure(figsize=(8,5))\n",
    "sns.histplot(df[\"anomaly_score\"], bins=50, kde=True)\n",
    "plt.axvline(df[\"anomaly_score\"].quantile(0.05), color=\"red\", linestyle=\"--\", label=\"5% cutoff\")\n",
    "plt.title(\"Anomaly Score Distribution\")\n",
    "plt.legend()\n",
    "plt.show()\n",
    "\n",
    "# --------- Inject Fake Fraud (Ground Truth for Metrics) ---------\n",
    "fake = df.sample(50, random_state=42).copy()\n",
    "fake[\"consumption_kwh\"] *= 10   # extreme high usage\n",
    "fake[\"billed_kwh\"] *= 0.1      # very low billing (under-reported)\n",
    "fake = add_features(fake)\n",
    "\n",
    "fake[\"anomaly_score\"] = model.decision_function(fake[features].fillna(0))\n",
    "fake[\"anomaly_label\"] = model.predict(fake[features].fillna(0))\n",
    "\n",
    "# Assign true labels\n",
    "df[\"true_label\"] = 1   # 1 = normal\n",
    "fake[\"true_label\"] = -1 # -1 = fraud\n",
    "\n",
    "# Merge real + fake\n",
    "eval_df = pd.concat([df, fake], ignore_index=True)\n",
    "\n",
    "# --------- Metrics ---------\n",
    "y_true = eval_df[\"true_label\"]\n",
    "y_pred = eval_df[\"anomaly_label\"]\n",
    "\n",
    "print(\"📊 Confusion Matrix:\")\n",
    "print(confusion_matrix(y_true, y_pred, labels=[-1, 1]))\n",
    "\n",
    "print(\"\\n📈 Classification Report:\")\n",
    "print(classification_report(y_true, y_pred, target_names=[\"Fraud (-1)\", \"Normal (1)\"]))\n"
   ]
  },
  {
   "cell_type": "code",
   "execution_count": null,
   "id": "6086f832-0dcb-4543-bf2d-21e070cb06aa",
   "metadata": {},
   "outputs": [],
   "source": []
  }
 ],
 "metadata": {
  "kernelspec": {
   "display_name": "Python 3 (ipykernel)",
   "language": "python",
   "name": "python3"
  },
  "language_info": {
   "codemirror_mode": {
    "name": "ipython",
    "version": 3
   },
   "file_extension": ".py",
   "mimetype": "text/x-python",
   "name": "python",
   "nbconvert_exporter": "python",
   "pygments_lexer": "ipython3",
   "version": "3.13.7"
  }
 },
 "nbformat": 4,
 "nbformat_minor": 5
}
